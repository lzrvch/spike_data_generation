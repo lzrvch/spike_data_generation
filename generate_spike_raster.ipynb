{
  "nbformat": 4,
  "nbformat_minor": 0,
  "metadata": {
    "colab": {
      "name": "generate_spike_raster.ipynb",
      "provenance": [],
      "private_outputs": true,
      "collapsed_sections": [],
      "authorship_tag": "ABX9TyPzs/x5F/VYIlrZ4u3wC/kc",
      "include_colab_link": true
    },
    "kernelspec": {
      "name": "python3",
      "display_name": "Python 3"
    }
  },
  "cells": [
    {
      "cell_type": "markdown",
      "metadata": {
        "id": "view-in-github",
        "colab_type": "text"
      },
      "source": [
        "<a href=\"https://colab.research.google.com/github/vanyalzr/spike_data_generation/blob/master/generate_spike_raster.ipynb\" target=\"_parent\"><img src=\"https://colab.research.google.com/assets/colab-badge.svg\" alt=\"Open In Colab\"/></a>"
      ]
    },
    {
      "cell_type": "code",
      "metadata": {
        "id": "UN6o662U54kU",
        "colab_type": "code",
        "colab": {}
      },
      "source": [
        "! apt install build-essential git python3-dev python3-setuptools python3-scipy python3-matplotlib python3-sympy cython3 > /dev/null"
      ],
      "execution_count": 0,
      "outputs": []
    },
    {
      "cell_type": "code",
      "metadata": {
        "id": "Jo-Vk83Q4WrH",
        "colab_type": "code",
        "colab": {}
      },
      "source": [
        "! pip install ANNarchy > /dev/null"
      ],
      "execution_count": 0,
      "outputs": []
    },
    {
      "cell_type": "code",
      "metadata": {
        "id": "O8aGDaC_uQQz",
        "colab_type": "code",
        "colab": {}
      },
      "source": [
        "! rm -rf ./spike_data_generation && git clone https://github.com/vanyalzr/spike_data_generation.git"
      ],
      "execution_count": 0,
      "outputs": []
    },
    {
      "cell_type": "code",
      "metadata": {
        "id": "POGzYjOtw0lu",
        "colab_type": "code",
        "colab": {}
      },
      "source": [
        "import matplotlib.pyplot as plt\n",
        "\n",
        "from spike_data_generation.models import SpikingNet\n",
        "from spike_data_generation.utils import process_raster\n",
        "from spike_data_generation.mpladeq import beautify_mpl, prettify\n",
        "\n",
        "beautify_mpl()"
      ],
      "execution_count": 0,
      "outputs": []
    },
    {
      "cell_type": "code",
      "metadata": {
        "id": "VTInjyuV-Pj9",
        "colab_type": "code",
        "colab": {}
      },
      "source": [
        "regular_spiking_params = {'a': 0.02, 'b': 0.2, 'c': -65.0, 'd': 8.0, 'v': -60}\n",
        "\n",
        "rs_net = SpikingNet(n_neurons=100,\n",
        "                    parameters=regular_spiking_params,\n",
        "                    noise=3.9,\n",
        "                    e_neurons=1,\n",
        "                    i_neurons=1,\n",
        "                    e_weight_max=0,\n",
        "                    i_weight_max=0)\n",
        "\n",
        "\n",
        "rs_times, rs_neurons, rate = rs_net.run(time=1e3)\n",
        "_, rs_isis, rs_isi = process_raster(rs_times, rs_neurons)"
      ],
      "execution_count": 0,
      "outputs": []
    },
    {
      "cell_type": "code",
      "metadata": {
        "id": "-Tx6EgozHABo",
        "colab_type": "code",
        "colab": {}
      },
      "source": [
        "plt.scatter(rs_times, rs_neurons, s=50., marker='|')\n",
        "plt.xlabel('Time, ms')\n",
        "plt.ylabel('Neuron #')\n",
        "prettify(figsize=(20, 10))   # rerun the cell twice to get desired figsize"
      ],
      "execution_count": 0,
      "outputs": []
    },
    {
      "cell_type": "code",
      "metadata": {
        "id": "m0gymQ6czl_D",
        "colab_type": "code",
        "colab": {}
      },
      "source": [
        ""
      ],
      "execution_count": 0,
      "outputs": []
    }
  ]
}