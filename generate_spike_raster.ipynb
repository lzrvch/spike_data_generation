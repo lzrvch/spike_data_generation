{
  "nbformat": 4,
  "nbformat_minor": 0,
  "metadata": {
    "colab": {
      "name": "generate_spike_raster.ipynb",
      "provenance": [],
      "authorship_tag": "ABX9TyNJRNP8GQHw+jcAZYVSo3Uo",
      "include_colab_link": true
    },
    "kernelspec": {
      "name": "python3",
      "display_name": "Python 3"
    }
  },
  "cells": [
    {
      "cell_type": "markdown",
      "metadata": {
        "id": "view-in-github",
        "colab_type": "text"
      },
      "source": [
        "<a href=\"https://colab.research.google.com/github/vanyalzr/spike_data_generation/blob/master/generate_spike_raster.ipynb\" target=\"_parent\"><img src=\"https://colab.research.google.com/assets/colab-badge.svg\" alt=\"Open In Colab\"/></a>"
      ]
    },
    {
      "cell_type": "code",
      "metadata": {
        "id": "9ijGjH3N34Q5",
        "colab_type": "code",
        "colab": {}
      },
      "source": [
        "! apt install build-essential git python3-dev python3-setuptools python3-scipy python3-matplotlib python3-sympy cython3"
      ],
      "execution_count": 0,
      "outputs": []
    },
    {
      "cell_type": "code",
      "metadata": {
        "id": "AQyw493a4JzT",
        "colab_type": "code",
        "colab": {}
      },
      "source": [
        "! apt install python3-pyqtgraph python3-pyqt4.qtopengl python3-lxml # optional"
      ],
      "execution_count": 0,
      "outputs": []
    },
    {
      "cell_type": "code",
      "metadata": {
        "id": "Jo-Vk83Q4WrH",
        "colab_type": "code",
        "colab": {}
      },
      "source": [
        "pip install ANNarchy"
      ],
      "execution_count": 0,
      "outputs": []
    },
    {
      "cell_type": "code",
      "metadata": {
        "id": "gDGna1zw7Hpj",
        "colab_type": "code",
        "colab": {}
      },
      "source": [
        "import numpy as np\n",
        "import pandas as pd\n",
        "\n",
        "import ANNarchy as ann\n",
        "from ANNarchy import Population\n",
        "from ANNarchy import Projection\n",
        "from ANNarchy import Monitor\n",
        "from ANNarchy import Izhikevich\n",
        "from ANNarchy import Uniform\n",
        "\n",
        "\n",
        "class SpikingNet:\n",
        "    def __init__(\n",
        "        self,\n",
        "        n_neurons,\n",
        "        parameters,\n",
        "        noise,\n",
        "        e_neurons=800,\n",
        "        i_neurons=200,\n",
        "        e_weight_max=0.5,\n",
        "        i_weight_max=1.0,\n",
        "    ):\n",
        "\n",
        "        ann.clear()\n",
        "\n",
        "        self.n_neurons = n_neurons\n",
        "        self.parameters = parameters\n",
        "        self.parameters['noise'] = noise\n",
        "        self.e_neurons = e_neurons\n",
        "        self.i_neurons = i_neurons\n",
        "        self.e_weight_max = e_weight_max\n",
        "        self.i_weight_max = i_weight_max\n",
        "        self.total_neurons = self.n_neurons + self.e_neurons + self.i_neurons\n",
        "        self.re = np.random.random(self.e_neurons)\n",
        "        self.exc_parameters = {\n",
        "            'noise': 5.0,\n",
        "            'a': 0.02,\n",
        "            'b': 0.2,\n",
        "            'c': -65.0 + 15.0 * self.re ** 2,\n",
        "            'd': 8.0 - 6.0 * self.re ** 2,\n",
        "        }\n",
        "        self.ri = np.random.random(self.i_neurons)\n",
        "        self.inh_parameters = {\n",
        "            'noise': 2.0,\n",
        "            'a': 0.02 + 0.08 * self.ri,\n",
        "            'b': 0.25 - 0.05 * self.ri,\n",
        "            'c': -65.0,\n",
        "            'd': 2.0,\n",
        "        }\n",
        "\n",
        "        self.construct()\n",
        "\n",
        "    def set_population_parameters(self, population, parameters):\n",
        "\n",
        "        population.noise = parameters['noise']\n",
        "        population.a = parameters['a']\n",
        "        population.b = parameters['b']\n",
        "        population.c = parameters['c']\n",
        "        population.d = parameters['d']\n",
        "        if 'v' in parameters:\n",
        "            population.v = parameters['v']\n",
        "        else:\n",
        "            population.v = -65.0\n",
        "\n",
        "        population.u = population.v * population.b\n",
        "\n",
        "    def construct(self):\n",
        "\n",
        "        population = Population(geometry=self.total_neurons, neuron=Izhikevich)\n",
        "        exc_pop = population[: self.e_neurons]\n",
        "        inh_pop = population[self.e_neurons : (self.e_neurons + self.i_neurons)]\n",
        "        custom_pop = population[(self.e_neurons + self.i_neurons) : self.total_neurons]\n",
        "\n",
        "        self.set_population_parameters(exc_pop, self.exc_parameters)\n",
        "        self.set_population_parameters(inh_pop, self.inh_parameters)\n",
        "        self.set_population_parameters(custom_pop, self.parameters)\n",
        "\n",
        "        exc_proj = Projection(pre=exc_pop, post=population, target='exc')\n",
        "        exc_proj.connect_all_to_all(weights=Uniform(0.0, self.e_weight_max))\n",
        "\n",
        "        inh_proj = Projection(pre=inh_pop, post=population, target='inh')\n",
        "        inh_proj.connect_all_to_all(weights=Uniform(0.0, self.i_weight_max))\n",
        "\n",
        "        ann.compile()\n",
        "\n",
        "        self.monitor = Monitor(population, ['spike', 'v'])\n",
        "\n",
        "    def run(self, time=1000):\n",
        "\n",
        "        ann.simulate(time, measure_time=True)\n",
        "\n",
        "        spikes = self.monitor.get('spike')\n",
        "        v = self.monitor.get('v')\n",
        "        t, n = self.monitor.raster_plot(spikes)\n",
        "        fr = self.monitor.histogram(spikes)\n",
        "\n",
        "        neurons_custom = n[np.where(n > (self.total_neurons - self.n_neurons))[0]]\n",
        "        t_custom = t[np.where(n > (self.total_neurons - self.n_neurons))[0]]\n",
        "        t_initial_transient = 0\n",
        "        t_custom = t_custom[np.where(t_custom > t_initial_transient)[0]]\n",
        "        neurons_custom = neurons_custom[np.where(t_custom > t_initial_transient)[0]]\n",
        "        mean_firing_rate = (\n",
        "            np.mean(pd.Series(neurons_custom).value_counts().values) / time * 1000\n",
        "        )\n",
        "\n",
        "        return t_custom, neurons_custom, mean_firing_rate"
      ],
      "execution_count": 0,
      "outputs": []
    },
    {
      "cell_type": "code",
      "metadata": {
        "id": "iiWvV2cY8HI8",
        "colab_type": "code",
        "colab": {}
      },
      "source": [
        "def process_raster(times, neurons):\n",
        "\n",
        "    raster = pd.DataFrame()\n",
        "    raster['neuron'] = neurons\n",
        "    raster['times'] = times\n",
        "\n",
        "    trains = []\n",
        "    isi_series = []\n",
        "    isis = []\n",
        "\n",
        "    for neuron_id in raster['neuron'].value_counts().index.values:\n",
        "        train = raster[raster['neuron'] == neuron_id]['times'].values\n",
        "        isi_series.append(np.diff(train))\n",
        "        isis += list(np.diff(train))\n",
        "        trains.append(train)\n",
        "\n",
        "    return trains, isi_series, isis\n",
        "\n",
        "\n",
        "def save_isis_to_file(isi_series_list, file):\n",
        "\n",
        "    with open(file, 'w') as outfile:\n",
        "        for isi_series in isi_series_list:\n",
        "            outfile.write(', '.join(list(map(str, isi_series))))\n",
        "            outfile.write('\\n')"
      ],
      "execution_count": 0,
      "outputs": []
    },
    {
      "cell_type": "code",
      "metadata": {
        "id": "VTInjyuV-Pj9",
        "colab_type": "code",
        "outputId": "71b9aa5b-686d-428f-aaf3-41faa196315c",
        "colab": {
          "base_uri": "https://localhost:8080/",
          "height": 51
        }
      },
      "source": [
        "regular_spiking_params = {'a': 0.02, 'b': 0.2, 'c': -65.0, 'd': 8.0, 'v': -60}\n",
        "\n",
        "rs_net = SpikingNet(n_neurons=100,\n",
        "                    parameters=regular_spiking_params,\n",
        "                    noise=3.9,\n",
        "                    e_neurons=2,\n",
        "                    i_neurons=2,\n",
        "                    e_weight_max=0,\n",
        "                    i_weight_max=0)\n",
        "\n",
        "\n",
        "rs_times, rs_neurons, rate = rs_net.run(time=1e3)\n",
        "_, rs_isis, rs_isi = process_raster(rs_times, rs_neurons)"
      ],
      "execution_count": 0,
      "outputs": [
        {
          "output_type": "stream",
          "text": [
            "WARNING: unrecognized arguments: ['-f', '/root/.local/share/jupyter/runtime/kernel-9f8b3fdc-d945-40b2-b961-9422c077f54d.json'] \n",
            "Simulating 1.0 seconds of the network took 0.009318828582763672 seconds. \n"
          ],
          "name": "stdout"
        }
      ]
    },
    {
      "cell_type": "code",
      "metadata": {
        "id": "Y8j5YyVO-bRE",
        "colab_type": "code",
        "outputId": "b2759323-d11b-4ab6-d5f3-1a26d4fe87d8",
        "colab": {
          "base_uri": "https://localhost:8080/",
          "height": 592
        }
      },
      "source": [
        "import matplotlib.pyplot as plt\n",
        "\n",
        "\n",
        "plt.scatter(rs_times, rs_neurons, s=3.0, marker='|')\n",
        "plt.rcParams['figure.figsize'] = 15, 10"
      ],
      "execution_count": 0,
      "outputs": [
        {
          "output_type": "display_data",
          "data": {
            "image/png": "[encoded data removed]",
            "text/plain": [
              "<Figure size 1080x720 with 1 Axes>"
            ]
          },
          "metadata": {
            "tags": [],
            "needs_background": "light"
          }
        }
      ]
    },
    {
      "cell_type": "code",
      "metadata": {
        "id": "-Tx6EgozHABo",
        "colab_type": "code",
        "colab": {}
      },
      "source": [
        ""
      ],
      "execution_count": 0,
      "outputs": []
    }
  ]
}